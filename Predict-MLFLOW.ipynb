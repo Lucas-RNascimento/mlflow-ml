{
 "cells": [
  {
   "cell_type": "markdown",
   "id": "f8c81e42-fc18-4d9f-9797-36e7d37f04b4",
   "metadata": {},
   "source": [
    "Irá consmuir o modelo do MLFLOW para fazer a previsão"
   ]
  },
  {
   "cell_type": "code",
   "execution_count": 4,
   "id": "90f3b5d4-77df-4a2a-b971-8ab1a4ee8b22",
   "metadata": {},
   "outputs": [
    {
     "ename": "NameError",
     "evalue": "name 'pd' is not defined",
     "output_type": "error",
     "traceback": [
      "\u001b[1;31m---------------------------------------------------------------------------\u001b[0m",
      "\u001b[1;31mNameError\u001b[0m                                 Traceback (most recent call last)",
      "Cell \u001b[1;32mIn[4], line 14\u001b[0m\n\u001b[0;32m     10\u001b[0m loaded_model \u001b[38;5;241m=\u001b[39m mlflow\u001b[38;5;241m.\u001b[39mpyfunc\u001b[38;5;241m.\u001b[39mload_model(logged_model)\n\u001b[0;32m     12\u001b[0m \u001b[38;5;66;03m#Ler o nosso arquivo\u001b[39;00m\n\u001b[1;32m---> 14\u001b[0m credito \u001b[38;5;241m=\u001b[39m pd\u001b[38;5;241m.\u001b[39mread_csv(\u001b[38;5;124m'\u001b[39m\u001b[38;5;124mCredit.csv\u001b[39m\u001b[38;5;124m'\u001b[39m)\n\u001b[0;32m     16\u001b[0m \u001b[38;5;66;03m# Convertendo colunas categóricas para códigos numéricos\u001b[39;00m\n\u001b[0;32m     17\u001b[0m \u001b[38;5;28;01mfor\u001b[39;00m col \u001b[38;5;129;01min\u001b[39;00m credito\u001b[38;5;241m.\u001b[39mcolumns:\n",
      "\u001b[1;31mNameError\u001b[0m: name 'pd' is not defined"
     ]
    }
   ],
   "source": [
    "# Bibliotecas\n",
    "import mlflow\n",
    "import pandas as pd\n",
    "import json\n",
    "\n",
    "# Caminho para o modelo foi registrado no MFLOW\n",
    "logged_model = \"runs:/ab5744037eab44c39142f2728f5e727c/ModeloRandomForest\"\n",
    "\n",
    "# Carregar esse url e transformar num modelo\n",
    "loaded_model = mlflow.pyfunc.load_model(logged_model)\n",
    "\n",
    "#Ler o nosso arquivo\n",
    "\n",
    "credito = pd.read_csv('Credit.csv')\n",
    "\n",
    "# Convertendo colunas categóricas para códigos numéricos\n",
    "for col in credito.columns:\n",
    "    if credito[col].dtype == \"object\":\n",
    "        credito[col] = credito[col].astype('category').cat.codes\n",
    "\n",
    "# Selecionando os dados e convertendo para JSON no formato split\n",
    "dados_json = credito.iloc[0:10, 0:20].to_json(orient='split')\n",
    "\n",
    "# Carregar o JSON de volta para um dicionario\n",
    "dados_dict = json.loads(dados_json)\n",
    "\n",
    "# Converter o dicionario para um DataFrame\n",
    "dados_df = pd.DataFrame(dados_dict['data'], columns=dados_dict['columns'])\n",
    "\n",
    "#Fazer as predicoes\n",
    "predicoes = loaded_model.predict(dados_df)\n",
    "\n",
    "#Print\n",
    "print(predicoes)"
   ]
  },
  {
   "cell_type": "code",
   "execution_count": null,
   "id": "37bce227-3af8-4b0c-8bc9-7bb8896cdb96",
   "metadata": {},
   "outputs": [],
   "source": []
  }
 ],
 "metadata": {
  "kernelspec": {
   "display_name": "Python [conda env:base] *",
   "language": "python",
   "name": "conda-base-py"
  },
  "language_info": {
   "codemirror_mode": {
    "name": "ipython",
    "version": 3
   },
   "file_extension": ".py",
   "mimetype": "text/x-python",
   "name": "python",
   "nbconvert_exporter": "python",
   "pygments_lexer": "ipython3",
   "version": "3.12.7"
  }
 },
 "nbformat": 4,
 "nbformat_minor": 5
}
