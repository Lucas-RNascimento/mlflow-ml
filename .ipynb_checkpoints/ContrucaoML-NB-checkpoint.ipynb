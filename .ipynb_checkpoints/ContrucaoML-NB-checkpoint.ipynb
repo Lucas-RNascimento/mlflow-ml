{
 "cells": [
  {
   "cell_type": "markdown",
   "id": "494c17e7-c3fa-4bcb-9609-749549cc248d",
   "metadata": {},
   "source": [
    "### Importar bibliotecas"
   ]
  },
  {
   "cell_type": "code",
   "execution_count": 61,
   "id": "f7a75624-138f-4fd8-9b24-a83f1beddca0",
   "metadata": {},
   "outputs": [],
   "source": [
    "import pandas as pd\n",
    "import numpy as np\n",
    "from sklearn.model_selection import train_test_split\n",
    "from sklearn.metrics import *\n",
    "from sklearn.naive_bayes import GaussianNB\n",
    "from sklearn.metrics import confusion_matrix\n",
    "import mlflow\n",
    "import mlflow.sklearn"
   ]
  },
  {
   "cell_type": "markdown",
   "id": "d2ed86c5-fed1-42ee-a32a-b45056231b4b",
   "metadata": {},
   "source": [
    "### Data Set"
   ]
  },
  {
   "cell_type": "code",
   "execution_count": 21,
   "id": "3462eab1-7947-471d-91bc-1bdde5112c62",
   "metadata": {},
   "outputs": [
    {
     "data": {
      "text/plain": [
       "(1000, 21)"
      ]
     },
     "execution_count": 21,
     "metadata": {},
     "output_type": "execute_result"
    }
   ],
   "source": [
    "credito = pd.read_csv('Credit.csv')\n",
    "credito.shape"
   ]
  },
  {
   "cell_type": "code",
   "execution_count": 23,
   "id": "e2426452-2c5b-48b3-a899-a0740f8d2dbf",
   "metadata": {},
   "outputs": [],
   "source": [
    "for col in credito.columns:\n",
    "    if credito[col].dtype == \"object\":\n",
    "        credito[col] = credito[col].astype('category').cat.codes"
   ]
  },
  {
   "cell_type": "code",
   "execution_count": 27,
   "id": "059e7e91-ca73-41ee-bb92-010ed84100f2",
   "metadata": {},
   "outputs": [
    {
     "data": {
      "text/html": [
       "<div>\n",
       "<style scoped>\n",
       "    .dataframe tbody tr th:only-of-type {\n",
       "        vertical-align: middle;\n",
       "    }\n",
       "\n",
       "    .dataframe tbody tr th {\n",
       "        vertical-align: top;\n",
       "    }\n",
       "\n",
       "    .dataframe thead th {\n",
       "        text-align: right;\n",
       "    }\n",
       "</style>\n",
       "<table border=\"1\" class=\"dataframe\">\n",
       "  <thead>\n",
       "    <tr style=\"text-align: right;\">\n",
       "      <th></th>\n",
       "      <th>checking_status</th>\n",
       "      <th>duration</th>\n",
       "      <th>credit_history</th>\n",
       "      <th>purpose</th>\n",
       "      <th>credit_amount</th>\n",
       "      <th>savings_status</th>\n",
       "      <th>employment</th>\n",
       "      <th>installment_commitment</th>\n",
       "      <th>personal_status</th>\n",
       "      <th>other_parties</th>\n",
       "      <th>...</th>\n",
       "      <th>property_magnitude</th>\n",
       "      <th>age</th>\n",
       "      <th>other_payment_plans</th>\n",
       "      <th>housing</th>\n",
       "      <th>existing_credits</th>\n",
       "      <th>job</th>\n",
       "      <th>num_dependents</th>\n",
       "      <th>own_telephone</th>\n",
       "      <th>foreign_worker</th>\n",
       "      <th>class</th>\n",
       "    </tr>\n",
       "  </thead>\n",
       "  <tbody>\n",
       "    <tr>\n",
       "      <th>0</th>\n",
       "      <td>1</td>\n",
       "      <td>6.0</td>\n",
       "      <td>1</td>\n",
       "      <td>6</td>\n",
       "      <td>1169.0</td>\n",
       "      <td>4</td>\n",
       "      <td>3</td>\n",
       "      <td>4.0</td>\n",
       "      <td>3</td>\n",
       "      <td>2</td>\n",
       "      <td>...</td>\n",
       "      <td>3</td>\n",
       "      <td>67.0</td>\n",
       "      <td>1</td>\n",
       "      <td>1</td>\n",
       "      <td>2.0</td>\n",
       "      <td>1</td>\n",
       "      <td>1.0</td>\n",
       "      <td>1</td>\n",
       "      <td>1</td>\n",
       "      <td>1</td>\n",
       "    </tr>\n",
       "    <tr>\n",
       "      <th>1</th>\n",
       "      <td>0</td>\n",
       "      <td>48.0</td>\n",
       "      <td>3</td>\n",
       "      <td>6</td>\n",
       "      <td>5951.0</td>\n",
       "      <td>2</td>\n",
       "      <td>0</td>\n",
       "      <td>2.0</td>\n",
       "      <td>0</td>\n",
       "      <td>2</td>\n",
       "      <td>...</td>\n",
       "      <td>3</td>\n",
       "      <td>22.0</td>\n",
       "      <td>1</td>\n",
       "      <td>1</td>\n",
       "      <td>1.0</td>\n",
       "      <td>1</td>\n",
       "      <td>1.0</td>\n",
       "      <td>0</td>\n",
       "      <td>1</td>\n",
       "      <td>0</td>\n",
       "    </tr>\n",
       "    <tr>\n",
       "      <th>2</th>\n",
       "      <td>3</td>\n",
       "      <td>12.0</td>\n",
       "      <td>1</td>\n",
       "      <td>2</td>\n",
       "      <td>2096.0</td>\n",
       "      <td>2</td>\n",
       "      <td>1</td>\n",
       "      <td>2.0</td>\n",
       "      <td>3</td>\n",
       "      <td>2</td>\n",
       "      <td>...</td>\n",
       "      <td>3</td>\n",
       "      <td>49.0</td>\n",
       "      <td>1</td>\n",
       "      <td>1</td>\n",
       "      <td>1.0</td>\n",
       "      <td>3</td>\n",
       "      <td>2.0</td>\n",
       "      <td>0</td>\n",
       "      <td>1</td>\n",
       "      <td>1</td>\n",
       "    </tr>\n",
       "    <tr>\n",
       "      <th>3</th>\n",
       "      <td>1</td>\n",
       "      <td>42.0</td>\n",
       "      <td>3</td>\n",
       "      <td>3</td>\n",
       "      <td>7882.0</td>\n",
       "      <td>2</td>\n",
       "      <td>1</td>\n",
       "      <td>2.0</td>\n",
       "      <td>3</td>\n",
       "      <td>1</td>\n",
       "      <td>...</td>\n",
       "      <td>1</td>\n",
       "      <td>45.0</td>\n",
       "      <td>1</td>\n",
       "      <td>0</td>\n",
       "      <td>1.0</td>\n",
       "      <td>1</td>\n",
       "      <td>2.0</td>\n",
       "      <td>0</td>\n",
       "      <td>1</td>\n",
       "      <td>1</td>\n",
       "    </tr>\n",
       "    <tr>\n",
       "      <th>4</th>\n",
       "      <td>1</td>\n",
       "      <td>24.0</td>\n",
       "      <td>2</td>\n",
       "      <td>4</td>\n",
       "      <td>4870.0</td>\n",
       "      <td>2</td>\n",
       "      <td>0</td>\n",
       "      <td>3.0</td>\n",
       "      <td>3</td>\n",
       "      <td>2</td>\n",
       "      <td>...</td>\n",
       "      <td>2</td>\n",
       "      <td>53.0</td>\n",
       "      <td>1</td>\n",
       "      <td>0</td>\n",
       "      <td>2.0</td>\n",
       "      <td>1</td>\n",
       "      <td>2.0</td>\n",
       "      <td>0</td>\n",
       "      <td>1</td>\n",
       "      <td>0</td>\n",
       "    </tr>\n",
       "  </tbody>\n",
       "</table>\n",
       "<p>5 rows × 21 columns</p>\n",
       "</div>"
      ],
      "text/plain": [
       "   checking_status  duration  credit_history  purpose  credit_amount  \\\n",
       "0                1       6.0               1        6         1169.0   \n",
       "1                0      48.0               3        6         5951.0   \n",
       "2                3      12.0               1        2         2096.0   \n",
       "3                1      42.0               3        3         7882.0   \n",
       "4                1      24.0               2        4         4870.0   \n",
       "\n",
       "   savings_status  employment  installment_commitment  personal_status  \\\n",
       "0               4           3                     4.0                3   \n",
       "1               2           0                     2.0                0   \n",
       "2               2           1                     2.0                3   \n",
       "3               2           1                     2.0                3   \n",
       "4               2           0                     3.0                3   \n",
       "\n",
       "   other_parties  ...  property_magnitude   age  other_payment_plans  housing  \\\n",
       "0              2  ...                   3  67.0                    1        1   \n",
       "1              2  ...                   3  22.0                    1        1   \n",
       "2              2  ...                   3  49.0                    1        1   \n",
       "3              1  ...                   1  45.0                    1        0   \n",
       "4              2  ...                   2  53.0                    1        0   \n",
       "\n",
       "   existing_credits  job  num_dependents  own_telephone  foreign_worker  class  \n",
       "0               2.0    1             1.0              1               1      1  \n",
       "1               1.0    1             1.0              0               1      0  \n",
       "2               1.0    3             2.0              0               1      1  \n",
       "3               1.0    1             2.0              0               1      1  \n",
       "4               2.0    1             2.0              0               1      0  \n",
       "\n",
       "[5 rows x 21 columns]"
      ]
     },
     "execution_count": 27,
     "metadata": {},
     "output_type": "execute_result"
    }
   ],
   "source": [
    "credito.head()"
   ]
  },
  {
   "cell_type": "markdown",
   "id": "9fedbe1c-6f47-4d5b-b736-0db1b27f5854",
   "metadata": {},
   "source": [
    "### Seprar conjuntos train e test"
   ]
  },
  {
   "cell_type": "code",
   "execution_count": 32,
   "id": "7d5239f2-1c72-403d-8df0-1644ff5618c6",
   "metadata": {},
   "outputs": [],
   "source": [
    "previsores = credito.iloc[:,0:20].values\n",
    "classe = credito.iloc[:,20].values"
   ]
  },
  {
   "cell_type": "code",
   "execution_count": 34,
   "id": "04293288-28c0-4b93-8512-360ddaa487c8",
   "metadata": {},
   "outputs": [],
   "source": [
    "X_train, X_test, y_train, y_test = train_test_split(previsores, classe, test_size=0.3, random_state=123)"
   ]
  },
  {
   "cell_type": "markdown",
   "id": "3edd33c9-b518-4eb4-9d64-d8ec90fae64f",
   "metadata": {},
   "source": [
    "### Treinamento do Algoritmo"
   ]
  },
  {
   "cell_type": "code",
   "execution_count": 57,
   "id": "4701c53a-f538-44d3-b391-3cb9b4befa44",
   "metadata": {},
   "outputs": [],
   "source": []
  },
  {
   "cell_type": "code",
   "execution_count": 59,
   "id": "5e39785e-fc5c-451a-8adb-af6a3fd2d468",
   "metadata": {},
   "outputs": [],
   "source": [
    "# Avaliando o desempenho do modelo\n",
    "\n",
    "acuracia = accuracy_score(y_test, previsoes)\n",
    "recall = recall_score(y_test, previsoes)\n",
    "precision = precision_score(y_test, previsoes)\n",
    "f1 = f1_score(y_test, previsoes)\n",
    "auc = roc_auc_score(y_test, previsoes)\n",
    "log = log_loss(y_test, previsoes)"
   ]
  },
  {
   "cell_type": "code",
   "execution_count": 55,
   "id": "83cc1539-2ad4-45c0-ba36-a07d8c2112ef",
   "metadata": {},
   "outputs": [],
   "source": [
    "# Criar experimento\n",
    "\n",
    "mlflow.set_experiment(\"naiveBayes_experimento\")\n",
    "\n",
    "# Run do experimento\n",
    "with mlflow.start_run():\n",
    "    naive_bayes = GaussianNB()\n",
    "    naive_bayes.fit(X_train, y_train)\n",
    "    previsoes = naive_bayes.predict(X_test)\n",
    "\n",
    "    #métricas\n",
    "    acuracia = accuracy_score(y_test, previsoes)\n",
    "    recall = recall_score(y_test, previsoes)\n",
    "    precision = precision_score(y_test, previsoes)\n",
    "    f1 = f1_score(y_test, previsoes)\n",
    "    auc = roc_auc_score(y_test, previsoes)\n",
    "    log = log_loss(y_test, previsoes)\n",
    "\n",
    "    #registrar métricas\n",
    "    mlflow.log_metric(\"acuracia\", acuracia)\n",
    "    mlflow.log_metric(\"recall\", recall)\n",
    "    mlflow.log_metric(\"precision\", precision)\n",
    "    mlflow.log_metric(\"f1\", f1)\n",
    "    mlflow.log_metric(\"auc\", auc)\n",
    "    mlflow.log_metric(\"log\", log)\n",
    "    \n",
    "\n",
    "    \n",
    "    "
   ]
  },
  {
   "cell_type": "code",
   "execution_count": null,
   "id": "d34fad4c-2178-473e-834e-d42598d60496",
   "metadata": {},
   "outputs": [],
   "source": []
  },
  {
   "cell_type": "code",
   "execution_count": null,
   "id": "c1523ca9-7c7d-41f6-b271-ba998db00b84",
   "metadata": {},
   "outputs": [],
   "source": []
  },
  {
   "cell_type": "code",
   "execution_count": null,
   "id": "77f37765-d42c-49c7-aa9a-b7f3a12494f1",
   "metadata": {},
   "outputs": [],
   "source": []
  }
 ],
 "metadata": {
  "kernelspec": {
   "display_name": "Python [conda env:base] *",
   "language": "python",
   "name": "conda-base-py"
  },
  "language_info": {
   "codemirror_mode": {
    "name": "ipython",
    "version": 3
   },
   "file_extension": ".py",
   "mimetype": "text/x-python",
   "name": "python",
   "nbconvert_exporter": "python",
   "pygments_lexer": "ipython3",
   "version": "3.12.7"
  }
 },
 "nbformat": 4,
 "nbformat_minor": 5
}
